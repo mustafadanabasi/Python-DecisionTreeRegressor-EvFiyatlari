{
  "nbformat": 4,
  "nbformat_minor": 0,
  "metadata": {
    "colab": {
      "provenance": [],
      "authorship_tag": "ABX9TyOXNxy4lmOP7B14stGAbAed",
      "include_colab_link": true
    },
    "kernelspec": {
      "name": "python3",
      "display_name": "Python 3"
    },
    "language_info": {
      "name": "python"
    }
  },
  "cells": [
    {
      "cell_type": "markdown",
      "metadata": {
        "id": "view-in-github",
        "colab_type": "text"
      },
      "source": [
        "<a href=\"https://colab.research.google.com/github/mustafadanabasi/Python-DecisionTreeRegressor-EvFiyatlari/blob/master/Python_DecisionTreeRegressor_EvFiyatlari.ipynb\" target=\"_parent\"><img src=\"https://colab.research.google.com/assets/colab-badge.svg\" alt=\"Open In Colab\"/></a>"
      ]
    },
    {
      "cell_type": "code",
      "execution_count": null,
      "metadata": {
        "id": "utcv7zHG9j7V"
      },
      "outputs": [],
      "source": [
        "# Gerekli kütüphanelerin import edilmesi\n",
        "import pandas as pd              # Veri analizi için pandas kütüphanesi\n",
        "import numpy as dp              # Sayısal işlemler için numpy (burada 'dp' olarak yazılmış, genelde 'np' olur)\n",
        "import matplotlib.pyplot as plt # Grafik çizimleri için matplotlib\n",
        "import seaborn as sns           # Veri görselleştirme için seaborn\n",
        "\n",
        "# Veri setinin okunması\n",
        "HousePrices = pd.read_csv('evfiyatlari.csv')  # CSV dosyasından veriler okunur\n",
        "HousePrices.info()                            # Veri seti hakkında genel bilgiler (sütun isimleri, veri türleri, boş değerler vs.)\n",
        "HousePrices.head()                            # Veri setinin ilk 5 satırı gösterilir\n",
        "\n",
        "# Bağımsız (özellik) ve bağımlı (hedef) değişkenlerin ayrılması\n",
        "X = HousePrices[[\"MetreKare\", \"YatakOdasi\", \"Banyo\"]]  # Bağımsız değişkenler: metrekare, yatak odası sayısı, banyo sayısı\n",
        "y = HousePrices[[\"Fiyat\"]]                             # Bağımlı değişken: ev fiyatı\n",
        "\n",
        "# Özellik ve hedef verilerin ekrana yazdırılması\n",
        "print(X)\n",
        "print(y)\n",
        "\n",
        "# Veriyi eğitim ve test olarak ayırma (%70 eğitim, %30 test)\n",
        "from sklearn.model_selection import train_test_split\n",
        "X_train, X_test, y_train, y_test = train_test_split(X, y, test_size=0.3, random_state=1)\n",
        "\n",
        "# Karar ağacı regresyon modeli oluşturma\n",
        "from sklearn.tree import DecisionTreeRegressor\n",
        "model = DecisionTreeRegressor(max_depth=4)  # Karar ağacı modelinin maksimum derinliği 4 olarak ayarlanır\n",
        "\n",
        "# Modelin eğitim verisi ile eğitilmesi\n",
        "model.fit(X_train, y_train)\n",
        "\n",
        "# Modelin test verileri ile tahmin yapması\n",
        "tahminler = model.predict(X_test)\n",
        "\n",
        "# Gerçek ve tahmin edilen değerlerin bir DataFrame içine aktarılması\n",
        "tahmin_ve_sonuclar = pd.DataFrame({\n",
        "    \"Gerçek Değerler\": y_test.values.reshape(-1),         # Gerçek fiyatlar\n",
        "    \"Tahmin Değerleri\": tahminler.reshape(-1)             # Modelin tahmin ettiği fiyatlar\n",
        "})\n",
        "\n",
        "# İlk 5 tahmin sonucu görüntülenir\n",
        "tahmin_ve_sonuclar.head()\n",
        "\n",
        "# Gerçek ve tahmin değerlerinin çizgi grafiği ile görselleştirilmesi\n",
        "sns.lineplot(data=tahmin_ve_sonuclar, markers=True)  # Seaborn ile çizgi grafiği çizilir\n",
        "plt.show()                                            # Grafik gösterilir\n",
        "\n",
        "# Ortalama kare hatasının hesaplanması (MSE - Mean Squared Error)\n",
        "from sklearn import metrics\n",
        "HataDegeri = metrics.mean_squared_error(y_test.values.reshape(-1), tahminler.reshape(-1))\n",
        "\n",
        "# Hata değeri ekrana yazdırılır\n",
        "print(\"Ortalama Kare Hatası:\", HataDegeri)\n"
      ]
    }
  ]
}